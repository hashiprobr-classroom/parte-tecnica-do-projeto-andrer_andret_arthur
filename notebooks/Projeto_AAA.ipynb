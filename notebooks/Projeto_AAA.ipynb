{
 "cells": [
  {
   "cell_type": "markdown",
   "id": "2713a652",
   "metadata": {},
   "source": [
    "# Projeto: Rede Steam"
   ]
  },
  {
   "cell_type": "markdown",
   "id": "fa2d7b80",
   "metadata": {},
   "source": [
    "Professores: Marcelo Hashimoto, Charles Kirschbaum\n",
    "\n",
    "\n",
    "Alunos: André Rocco, André Tavernaro, Arthur Carvalho"
   ]
  },
  {
   "cell_type": "code",
   "execution_count": 1,
   "id": "562cd2a1",
   "metadata": {},
   "outputs": [
    {
     "data": {
      "text/html": [
       "\n",
       "    <script src=\"/files/netpixi.min.js\"></script>\n"
      ],
      "text/plain": [
       "<IPython.core.display.HTML object>"
      ]
     },
     "metadata": {},
     "output_type": "display_data"
    }
   ],
   "source": [
    "import csv\n",
    "import netpixi\n",
    "from netpixi.data.gt import *\n",
    "import pandas as pd\n",
    "from graph_tool import Graph, util, stats, centrality\n",
    "g = Graph(directed=False)\n",
    "import matplotlib.pyplot as plt\n",
    "import seaborn as sns\n",
    "sns.set()\n",
    "import statsmodels.formula.api as smf"
   ]
  },
  {
   "cell_type": "markdown",
   "id": "b1396a50",
   "metadata": {},
   "source": [
    "## Importando Database"
   ]
  },
  {
   "cell_type": "code",
   "execution_count": 2,
   "id": "1e6a0caf",
   "metadata": {},
   "outputs": [],
   "source": [
    "games = []\n",
    "genres = []\n",
    "owners = []\n",
    "categories = []\n",
    "release_date = []\n",
    "\n",
    "with open('../notebooks/steam.csv') as file:\n",
    "    reader = csv.reader(file, delimiter=',', quotechar='\"')\n",
    "    i = 0;\n",
    "    for row in reader:\n",
    "        game = row[1]\n",
    "        category = row[8]\n",
    "        genre = row[9]\n",
    "        owner = row[16]\n",
    "        release = row[2]\n",
    "        games.append(game)\n",
    "        categories.append(category)\n",
    "        genres.append(genre)\n",
    "        owners.append(owner)\n",
    "        release_date.append(release)\n",
    "        i += 1\n",
    "        \n",
    "#print(owners)"
   ]
  },
  {
   "cell_type": "markdown",
   "id": "b31107a8",
   "metadata": {},
   "source": [
    "## Processamento de dados"
   ]
  },
  {
   "cell_type": "code",
   "execution_count": 3,
   "id": "e69ffc53",
   "metadata": {
    "scrolled": true
   },
   "outputs": [
    {
     "name": "stdout",
     "output_type": "stream",
     "text": [
      "134090.4893813481\n"
     ]
    }
   ],
   "source": [
    "splitsgen = []\n",
    "uniquegen = []\n",
    "for o in range(len(genres)):\n",
    "    unique = genres[o].split(\";\")\n",
    "    splitsgen.append(unique)\n",
    "\n",
    "for u in range(len(splitsgen)):\n",
    "    for v in range(len(splitsgen[u])):\n",
    "        if splitsgen[u][v] not in uniquegen:\n",
    "            uniquegen.append(splitsgen[u][v])\n",
    "\n",
    "# splitscat = []\n",
    "# uniquecat = []\n",
    "# for o in range(len(categories)):\n",
    "#     uniquec = categories[o].split(\";\")\n",
    "#     splitscat.append(uniquec)\n",
    "\n",
    "# for u in range(len(splitscat)):\n",
    "#     for v in range(len(splitscat[u])):\n",
    "#         if splitscat[u][v] not in uniquecat:\n",
    "#             #print(splits[u][v])\n",
    "#             uniquecat.append(splitscat[u][v])\n",
    "\n",
    "if 'owners' in owners:\n",
    "    owners.remove('owners')\n",
    "    \n",
    "if 'categories' in categories:\n",
    "    categories.remove('categories')\n",
    "    \n",
    "if 'release_date' in release_date:\n",
    "    release_date.remove('release_date')\n",
    "\n",
    "owner_split = []\n",
    "\n",
    "for v in range(len(owners)):\n",
    "    sep = owners[v].split(\"-\")\n",
    "    owner_split.append(sep)\n",
    "    \n",
    "cat_split = []\n",
    "for p in range(len(categories)):\n",
    "    sepcat = categories[p].split(\";\")\n",
    "    cat_split.append(sepcat)\n",
    "\n",
    "release_split = []\n",
    "for r in range(len(release_date)):\n",
    "    seprelease = release_date[r].split(\"-\")\n",
    "    release_split.append(seprelease)\n",
    "    \n",
    "owners_avg = []\n",
    "for t in range(len(owner_split)):\n",
    "    avg = (int(owner_split[t][0]) + int(owner_split[t][1])) / 2\n",
    "    owners_avg.append(avg)\n",
    "    \n",
    "release_year = []\n",
    "for n in range(len(release_split)):\n",
    "    release_year.append(release_split[n][0])\n",
    "    \n",
    "\n",
    "\n",
    "    \n",
    "df_owners = pd.DataFrame(owners_avg)\n",
    "df_owners[0] = df_owners[0].astype(int)\n",
    "#df_owners\n",
    "\n",
    "soma_owners = df_owners[0].sum()\n",
    "print(soma_owners/len(df_owners))\n",
    "\n",
    "#len()"
   ]
  },
  {
   "cell_type": "markdown",
   "id": "168379a3",
   "metadata": {},
   "source": [
    "## Filtragem por número de Owners"
   ]
  },
  {
   "cell_type": "code",
   "execution_count": 4,
   "id": "17c0d1e4",
   "metadata": {},
   "outputs": [
    {
     "name": "stdout",
     "output_type": "stream",
     "text": [
      "24736\n"
     ]
    }
   ],
   "source": [
    "indexesToRemove = []\n",
    "for gt in range(0,len(owners)):\n",
    "    if owners[gt] == '0-20000' or owners[gt] == '20000-50000' or owners[gt] == '50000-100000' or owners[gt] =='100000-200000': #or owners[gt] == '200000-500000':\n",
    "        indexesToRemove.append(gt)\n",
    "print(len(indexesToRemove))"
   ]
  },
  {
   "cell_type": "code",
   "execution_count": 5,
   "id": "b6cd5bc6",
   "metadata": {},
   "outputs": [
    {
     "name": "stdout",
     "output_type": "stream",
     "text": [
      "2340\n"
     ]
    }
   ],
   "source": [
    "games = [i for j, i in enumerate(games) if j not in indexesToRemove]\n",
    "print(len(games))"
   ]
  },
  {
   "cell_type": "markdown",
   "id": "84f9e831",
   "metadata": {},
   "source": [
    "## Criando Vértices"
   ]
  },
  {
   "cell_type": "code",
   "execution_count": 6,
   "id": "64dc6eee",
   "metadata": {},
   "outputs": [
    {
     "name": "stdout",
     "output_type": "stream",
     "text": [
      "número de vértices de g: 2340\n"
     ]
    }
   ],
   "source": [
    "for all in range(len(games)):\n",
    "    g.add_vertex()\n",
    "\n",
    "print('número de vértices de g:', g.num_vertices())"
   ]
  },
  {
   "cell_type": "markdown",
   "id": "9cbf21d7",
   "metadata": {},
   "source": [
    "## Criando Arestas"
   ]
  },
  {
   "cell_type": "code",
   "execution_count": 7,
   "id": "c3659e49",
   "metadata": {},
   "outputs": [],
   "source": [
    "Action               = []\n",
    "FreeToPlay           = []\n",
    "Strategy             = []\n",
    "Adventure            = []\n",
    "Indie                = []\n",
    "RPG                  = []\n",
    "AnimationModeling    = []\n",
    "VideoProduction      = []\n",
    "Casual               = []\n",
    "Simulation           = []\n",
    "Racing               = []\n",
    "Violent              = []\n",
    "MassivelyMultiplayer = []\n",
    "Nudity               = []\n",
    "Sports               = []\n",
    "EarlyAccess          = []\n",
    "Gore                 = []\n",
    "Utilities            = []\n",
    "DesignIllustration   = []\n",
    "WebPublishing        = []\n",
    "Education            = []\n",
    "SoftwareTraining     = []\n",
    "SexualContent        = []\n",
    "AudioProduction      = []\n",
    "GameDevelopment      = []\n",
    "PhotoEditing         = []\n",
    "Accounting           = []\n",
    "Documentary          = []\n",
    "Tutorial             = []\n",
    "\n",
    "for i in range(len(games)):\n",
    "    if 'Action' in genres[i]:\n",
    "        Action.append(games[i])\n",
    "    if 'Free to Play' in genres[i]:\n",
    "        FreeToPlay.append(games[i])\n",
    "    if 'Strategy' in genres[i]:\n",
    "        Strategy.append(games[i])\n",
    "    if 'Adventure' in genres[i]:\n",
    "        Adventure.append(games[i])\n",
    "    if 'Indie' in genres[i]:\n",
    "        Indie.append(games[i])\n",
    "    if 'RPG' in genres[i]:\n",
    "        RPG.append(games[i])\n",
    "    if 'Animation & Modeling' in genres[i]:\n",
    "        AnimationModeling.append(games[i])\n",
    "    if 'Video Production' in genres[i]:\n",
    "        VideoProduction.append(games[i])\n",
    "    if 'Casual' in genres[i]:\n",
    "        Casual.append(games[i])\n",
    "    if 'Simulation' in genres[i]:\n",
    "        Simulation.append(games[i])\n",
    "    if 'Racing' in genres[i]:\n",
    "        Racing.append(games[i])\n",
    "    if 'Violent' in genres[i]:\n",
    "        Violent.append(games[i])\n",
    "    if 'Massively Multiplayer' in genres[i]:\n",
    "        MassivelyMultiplayer.append(games[i])\n",
    "    if 'Nudity' in genres[i]:\n",
    "        Nudity.append(games[i])\n",
    "    if 'Sports' in genres[i]:\n",
    "        Sports.append(games[i])\n",
    "    if 'Early Access' in genres[i]:\n",
    "        EarlyAccess.append(games[i])\n",
    "    if 'Gore' in genres[i]:\n",
    "        Gore.append(games[i])\n",
    "    if 'Utilities' in genres[i]:\n",
    "        Utilities.append(games[i])\n",
    "    if 'Design & Illustration' in genres[i]:\n",
    "        DesignIllustration.append(games[i])\n",
    "    if 'Web Publishing' in genres[i]:\n",
    "        WebPublishing.append(games[i])\n",
    "    if 'Education' in genres[i]:\n",
    "        Education.append(games[i])\n",
    "    if 'Software Training' in genres[i]:\n",
    "        SoftwareTraining.append(games[i])\n",
    "    if 'Sexual Content' in genres[i]:\n",
    "        SexualContent.append(games[i])\n",
    "    if 'Audio Production' in genres[i]:\n",
    "        AudioProduction.append(games[i])\n",
    "    if 'Game Development' in genres[i]:\n",
    "        GameDevelopment.append(games[i])\n",
    "    if 'Photo Editing' in genres[i]:\n",
    "        PhotoEditing.append(games[i])\n",
    "    if 'Accounting' in genres[i]:\n",
    "        Accounting.append(games[i])\n",
    "    if 'Documentary' in genres[i]:\n",
    "        Documentary.append(games[i])\n",
    "    if 'Tutorial' in genres[i]:\n",
    "        Tutorial.append(games[i])"
   ]
  },
  {
   "cell_type": "code",
   "execution_count": 8,
   "id": "fd24db23",
   "metadata": {},
   "outputs": [],
   "source": [
    "listaDeListaGeneros = []\n",
    "\n",
    "listaDeListaGeneros.append(Action)\n",
    "listaDeListaGeneros.append(FreeToPlay)\n",
    "listaDeListaGeneros.append(Strategy)\n",
    "listaDeListaGeneros.append(Adventure)\n",
    "listaDeListaGeneros.append(Indie)\n",
    "listaDeListaGeneros.append(RPG)\n",
    "listaDeListaGeneros.append(AnimationModeling)\n",
    "listaDeListaGeneros.append(VideoProduction)\n",
    "listaDeListaGeneros.append(Casual)\n",
    "listaDeListaGeneros.append(Simulation)\n",
    "listaDeListaGeneros.append(Racing)\n",
    "listaDeListaGeneros.append(Violent)\n",
    "listaDeListaGeneros.append(MassivelyMultiplayer)\n",
    "listaDeListaGeneros.append(Nudity)\n",
    "listaDeListaGeneros.append(Sports)\n",
    "listaDeListaGeneros.append(EarlyAccess)\n",
    "listaDeListaGeneros.append(Gore)\n",
    "listaDeListaGeneros.append(Utilities)\n",
    "listaDeListaGeneros.append(DesignIllustration)\n",
    "listaDeListaGeneros.append(WebPublishing)\n",
    "listaDeListaGeneros.append(Education)\n",
    "listaDeListaGeneros.append(SoftwareTraining)\n",
    "listaDeListaGeneros.append(SexualContent)\n",
    "listaDeListaGeneros.append(AudioProduction)\n",
    "listaDeListaGeneros.append(GameDevelopment)\n",
    "listaDeListaGeneros.append(PhotoEditing)\n",
    "listaDeListaGeneros.append(Accounting)\n",
    "listaDeListaGeneros.append(Documentary)\n",
    "listaDeListaGeneros.append(Tutorial)\n"
   ]
  },
  {
   "cell_type": "code",
   "execution_count": 9,
   "id": "e8ac398b",
   "metadata": {},
   "outputs": [],
   "source": [
    "count_por_jogo = []\n",
    "numeros_generos = []\n",
    "count = 0\n",
    "countprint = 0\n",
    "for a in range(len(games)):\n",
    "    for b in range(len(games)):\n",
    "        count = 0\n",
    "        for lg in range(len(listaDeListaGeneros)):\n",
    "            if games[a] in listaDeListaGeneros[lg]:\n",
    "                if games[b] in listaDeListaGeneros[lg]:\n",
    "                    count+=1\n",
    "                    #countprint += 1\n",
    "            #print(\"loop interno\")\n",
    "            #if countprint > 60000:\n",
    "                #print(countprint)\n",
    "        numeros_generos.append(count)\n",
    "        if count >= 1:\n",
    "            #print(a,b)\n",
    "            g.add_edge(a,b, add_missing=False)"
   ]
  },
  {
   "cell_type": "code",
   "execution_count": 10,
   "id": "4c393438",
   "metadata": {},
   "outputs": [],
   "source": [
    "n_vert = g.num_vertices()\n",
    "n_arest = g.num_edges()\n",
    "\n",
    "stats.remove_parallel_edges(g)\n",
    "stats.remove_self_loops(g)\n",
    "\n",
    "vertex_to_remove = []\n",
    "\n",
    "for u in g.vertices():\n",
    "    counter = 0\n",
    "    for l in g.vertices():\n",
    "        if g.edge(u,l):\n",
    "            counter += 1\n",
    "    if counter == 0:\n",
    "        if u not in vertex_to_remove:\n",
    "            vertex_to_remove.append(u)\n",
    "\n",
    "vertex_to_remove.reverse()\n",
    "            \n",
    "for m in vertex_to_remove:\n",
    "        g.remove_vertex(m)"
   ]
  },
  {
   "cell_type": "code",
   "execution_count": 11,
   "id": "aacda0ed",
   "metadata": {},
   "outputs": [
    {
     "data": {
      "text/plain": [
       "2338"
      ]
     },
     "execution_count": 11,
     "metadata": {},
     "output_type": "execute_result"
    }
   ],
   "source": [
    "n = g.num_vertices()\n",
    "n"
   ]
  },
  {
   "cell_type": "code",
   "execution_count": 12,
   "id": "bb69beea",
   "metadata": {},
   "outputs": [
    {
     "data": {
      "text/plain": [
       "1363763"
      ]
     },
     "execution_count": 12,
     "metadata": {},
     "output_type": "execute_result"
    }
   ],
   "source": [
    "m = g.num_edges()\n",
    "m"
   ]
  },
  {
   "cell_type": "markdown",
   "id": "bd0deb45",
   "metadata": {},
   "source": [
    "## Criando Dataframe"
   ]
  },
  {
   "cell_type": "code",
   "execution_count": 13,
   "id": "7066523b",
   "metadata": {},
   "outputs": [],
   "source": [
    "g.vp['name'] = g.new_vp('object')\n",
    "g.vp['owners'] = g.new_vp('object')\n",
    "g.vp['categories'] = g.new_vp('object')\n",
    "g.vp['release_year'] = g.new_vp('object')\n",
    "for e in range(n):\n",
    "    vertice = g.vertex(e)\n",
    "    g.vp['name'][vertice] = games[e]\n",
    "    g.vp['owners'][vertice] = owners_avg[e]\n",
    "    g.vp['categories'][vertice] = cat_split[e]\n",
    "    g.vp['release_year'][vertice] = release_year[e]"
   ]
  },
  {
   "cell_type": "code",
   "execution_count": 14,
   "id": "a2a4fe8f",
   "metadata": {},
   "outputs": [],
   "source": [
    "bc, _ = centrality.betweenness(g)\n",
    "g.vp['betweeness'] = bc"
   ]
  },
  {
   "cell_type": "code",
   "execution_count": 15,
   "id": "ea3dc2de",
   "metadata": {
    "scrolled": false
   },
   "outputs": [
    {
     "data": {
      "text/html": [
       "<div>\n",
       "<style scoped>\n",
       "    .dataframe tbody tr th:only-of-type {\n",
       "        vertical-align: middle;\n",
       "    }\n",
       "\n",
       "    .dataframe tbody tr th {\n",
       "        vertical-align: top;\n",
       "    }\n",
       "\n",
       "    .dataframe thead th {\n",
       "        text-align: right;\n",
       "    }\n",
       "</style>\n",
       "<table border=\"1\" class=\"dataframe\">\n",
       "  <thead>\n",
       "    <tr style=\"text-align: right;\">\n",
       "      <th></th>\n",
       "      <th>name</th>\n",
       "      <th>owners</th>\n",
       "      <th>categories</th>\n",
       "      <th>release_year</th>\n",
       "      <th>betweeness</th>\n",
       "    </tr>\n",
       "  </thead>\n",
       "  <tbody>\n",
       "    <tr>\n",
       "      <th>0</th>\n",
       "      <td>name</td>\n",
       "      <td>15000000.0</td>\n",
       "      <td>[Multi-player, Online Multi-Player, Local Mult...</td>\n",
       "      <td>2000</td>\n",
       "      <td>0.000000</td>\n",
       "    </tr>\n",
       "    <tr>\n",
       "      <th>1</th>\n",
       "      <td>Counter-Strike</td>\n",
       "      <td>7500000.0</td>\n",
       "      <td>[Multi-player, Online Multi-Player, Local Mult...</td>\n",
       "      <td>1999</td>\n",
       "      <td>0.000000</td>\n",
       "    </tr>\n",
       "    <tr>\n",
       "      <th>2</th>\n",
       "      <td>Team Fortress Classic</td>\n",
       "      <td>7500000.0</td>\n",
       "      <td>[Multi-player, Valve Anti-Cheat enabled]</td>\n",
       "      <td>2003</td>\n",
       "      <td>0.000000</td>\n",
       "    </tr>\n",
       "    <tr>\n",
       "      <th>3</th>\n",
       "      <td>Day of Defeat</td>\n",
       "      <td>7500000.0</td>\n",
       "      <td>[Multi-player, Online Multi-Player, Local Mult...</td>\n",
       "      <td>2001</td>\n",
       "      <td>0.000000</td>\n",
       "    </tr>\n",
       "    <tr>\n",
       "      <th>4</th>\n",
       "      <td>Deathmatch Classic</td>\n",
       "      <td>7500000.0</td>\n",
       "      <td>[Single-player, Multi-player, Valve Anti-Cheat...</td>\n",
       "      <td>1999</td>\n",
       "      <td>0.000000</td>\n",
       "    </tr>\n",
       "    <tr>\n",
       "      <th>...</th>\n",
       "      <td>...</td>\n",
       "      <td>...</td>\n",
       "      <td>...</td>\n",
       "      <td>...</td>\n",
       "      <td>...</td>\n",
       "    </tr>\n",
       "    <tr>\n",
       "      <th>2333</th>\n",
       "      <td>枕边少女 MOE Hypnotist - share dreams with you</td>\n",
       "      <td>75000.0</td>\n",
       "      <td>[Single-player, Steam Achievements, Full contr...</td>\n",
       "      <td>2014</td>\n",
       "      <td>0.000142</td>\n",
       "    </tr>\n",
       "    <tr>\n",
       "      <th>2334</th>\n",
       "      <td>Magical Monster Land</td>\n",
       "      <td>35000.0</td>\n",
       "      <td>[Single-player, Multi-player, Co-op, Shared/Sp...</td>\n",
       "      <td>2015</td>\n",
       "      <td>0.000114</td>\n",
       "    </tr>\n",
       "    <tr>\n",
       "      <th>2335</th>\n",
       "      <td>War Platform</td>\n",
       "      <td>35000.0</td>\n",
       "      <td>[Single-player, Steam Achievements, Includes l...</td>\n",
       "      <td>2014</td>\n",
       "      <td>0.000121</td>\n",
       "    </tr>\n",
       "    <tr>\n",
       "      <th>2336</th>\n",
       "      <td>Clash of Chefs VR</td>\n",
       "      <td>350000.0</td>\n",
       "      <td>[Single-player, Steam Achievements, Steam Trad...</td>\n",
       "      <td>2014</td>\n",
       "      <td>0.000278</td>\n",
       "    </tr>\n",
       "    <tr>\n",
       "      <th>2337</th>\n",
       "      <td>Super Grower</td>\n",
       "      <td>150000.0</td>\n",
       "      <td>[Single-player, Multi-player]</td>\n",
       "      <td>2014</td>\n",
       "      <td>0.000278</td>\n",
       "    </tr>\n",
       "  </tbody>\n",
       "</table>\n",
       "<p>2338 rows × 5 columns</p>\n",
       "</div>"
      ],
      "text/plain": [
       "                                            name      owners  \\\n",
       "0                                           name  15000000.0   \n",
       "1                                 Counter-Strike   7500000.0   \n",
       "2                          Team Fortress Classic   7500000.0   \n",
       "3                                  Day of Defeat   7500000.0   \n",
       "4                             Deathmatch Classic   7500000.0   \n",
       "...                                          ...         ...   \n",
       "2333  枕边少女 MOE Hypnotist - share dreams with you     75000.0   \n",
       "2334                        Magical Monster Land     35000.0   \n",
       "2335                                War Platform     35000.0   \n",
       "2336                           Clash of Chefs VR    350000.0   \n",
       "2337                                Super Grower    150000.0   \n",
       "\n",
       "                                             categories  release_year  \\\n",
       "0     [Multi-player, Online Multi-Player, Local Mult...          2000   \n",
       "1     [Multi-player, Online Multi-Player, Local Mult...          1999   \n",
       "2              [Multi-player, Valve Anti-Cheat enabled]          2003   \n",
       "3     [Multi-player, Online Multi-Player, Local Mult...          2001   \n",
       "4     [Single-player, Multi-player, Valve Anti-Cheat...          1999   \n",
       "...                                                 ...           ...   \n",
       "2333  [Single-player, Steam Achievements, Full contr...          2014   \n",
       "2334  [Single-player, Multi-player, Co-op, Shared/Sp...          2015   \n",
       "2335  [Single-player, Steam Achievements, Includes l...          2014   \n",
       "2336  [Single-player, Steam Achievements, Steam Trad...          2014   \n",
       "2337                      [Single-player, Multi-player]          2014   \n",
       "\n",
       "      betweeness  \n",
       "0       0.000000  \n",
       "1       0.000000  \n",
       "2       0.000000  \n",
       "3       0.000000  \n",
       "4       0.000000  \n",
       "...          ...  \n",
       "2333    0.000142  \n",
       "2334    0.000114  \n",
       "2335    0.000121  \n",
       "2336    0.000278  \n",
       "2337    0.000278  \n",
       "\n",
       "[2338 rows x 5 columns]"
      ]
     },
     "execution_count": 15,
     "metadata": {},
     "output_type": "execute_result"
    }
   ],
   "source": [
    "df = pd.DataFrame({k: list(v) for k, v in g.vp.items()})\n",
    "df['release_year'] = df['release_year'].astype(int)\n",
    "df"
   ]
  },
  {
   "cell_type": "code",
   "execution_count": 16,
   "id": "8848394c",
   "metadata": {},
   "outputs": [
    {
     "data": {
      "text/html": [
       "<table class=\"simpletable\">\n",
       "<caption>OLS Regression Results</caption>\n",
       "<tr>\n",
       "  <th>Dep. Variable:</th>       <td>betweeness</td>    <th>  R-squared:         </th>  <td>   0.000</td> \n",
       "</tr>\n",
       "<tr>\n",
       "  <th>Model:</th>                   <td>OLS</td>       <th>  Adj. R-squared:    </th>  <td>  -0.000</td> \n",
       "</tr>\n",
       "<tr>\n",
       "  <th>Method:</th>             <td>Least Squares</td>  <th>  F-statistic:       </th>  <td> 0.02586</td> \n",
       "</tr>\n",
       "<tr>\n",
       "  <th>Date:</th>             <td>Mon, 29 Nov 2021</td> <th>  Prob (F-statistic):</th>   <td> 0.872</td>  \n",
       "</tr>\n",
       "<tr>\n",
       "  <th>Time:</th>                 <td>18:59:18</td>     <th>  Log-Likelihood:    </th>  <td>  15737.</td> \n",
       "</tr>\n",
       "<tr>\n",
       "  <th>No. Observations:</th>      <td>  2338</td>      <th>  AIC:               </th> <td>-3.147e+04</td>\n",
       "</tr>\n",
       "<tr>\n",
       "  <th>Df Residuals:</th>          <td>  2336</td>      <th>  BIC:               </th> <td>-3.146e+04</td>\n",
       "</tr>\n",
       "<tr>\n",
       "  <th>Df Model:</th>              <td>     1</td>      <th>                     </th>      <td> </td>    \n",
       "</tr>\n",
       "<tr>\n",
       "  <th>Covariance Type:</th>      <td>nonrobust</td>    <th>                     </th>      <td> </td>    \n",
       "</tr>\n",
       "</table>\n",
       "<table class=\"simpletable\">\n",
       "<tr>\n",
       "      <td></td>         <th>coef</th>     <th>std err</th>      <th>t</th>      <th>P>|t|</th>  <th>[0.025</th>    <th>0.975]</th>  \n",
       "</tr>\n",
       "<tr>\n",
       "  <th>Intercept</th> <td>    0.0002</td> <td>  6.1e-06</td> <td>   34.356</td> <td> 0.000</td> <td>    0.000</td> <td>    0.000</td>\n",
       "</tr>\n",
       "<tr>\n",
       "  <th>owners</th>    <td>-2.442e-13</td> <td> 1.52e-12</td> <td>   -0.161</td> <td> 0.872</td> <td>-3.22e-12</td> <td> 2.73e-12</td>\n",
       "</tr>\n",
       "</table>\n",
       "<table class=\"simpletable\">\n",
       "<tr>\n",
       "  <th>Omnibus:</th>       <td>1570.571</td> <th>  Durbin-Watson:     </th> <td>   1.689</td> \n",
       "</tr>\n",
       "<tr>\n",
       "  <th>Prob(Omnibus):</th>  <td> 0.000</td>  <th>  Jarque-Bera (JB):  </th> <td>29618.511</td>\n",
       "</tr>\n",
       "<tr>\n",
       "  <th>Skew:</th>           <td> 2.908</td>  <th>  Prob(JB):          </th> <td>    0.00</td> \n",
       "</tr>\n",
       "<tr>\n",
       "  <th>Kurtosis:</th>       <td>19.438</td>  <th>  Cond. No.          </th> <td>4.10e+06</td> \n",
       "</tr>\n",
       "</table><br/><br/>Notes:<br/>[1] Standard Errors assume that the covariance matrix of the errors is correctly specified.<br/>[2] The condition number is large, 4.1e+06. This might indicate that there are<br/>strong multicollinearity or other numerical problems."
      ],
      "text/plain": [
       "<class 'statsmodels.iolib.summary.Summary'>\n",
       "\"\"\"\n",
       "                            OLS Regression Results                            \n",
       "==============================================================================\n",
       "Dep. Variable:             betweeness   R-squared:                       0.000\n",
       "Model:                            OLS   Adj. R-squared:                 -0.000\n",
       "Method:                 Least Squares   F-statistic:                   0.02586\n",
       "Date:                Mon, 29 Nov 2021   Prob (F-statistic):              0.872\n",
       "Time:                        18:59:18   Log-Likelihood:                 15737.\n",
       "No. Observations:                2338   AIC:                        -3.147e+04\n",
       "Df Residuals:                    2336   BIC:                        -3.146e+04\n",
       "Df Model:                           1                                         \n",
       "Covariance Type:            nonrobust                                         \n",
       "==============================================================================\n",
       "                 coef    std err          t      P>|t|      [0.025      0.975]\n",
       "------------------------------------------------------------------------------\n",
       "Intercept      0.0002    6.1e-06     34.356      0.000       0.000       0.000\n",
       "owners     -2.442e-13   1.52e-12     -0.161      0.872   -3.22e-12    2.73e-12\n",
       "==============================================================================\n",
       "Omnibus:                     1570.571   Durbin-Watson:                   1.689\n",
       "Prob(Omnibus):                  0.000   Jarque-Bera (JB):            29618.511\n",
       "Skew:                           2.908   Prob(JB):                         0.00\n",
       "Kurtosis:                      19.438   Cond. No.                     4.10e+06\n",
       "==============================================================================\n",
       "\n",
       "Notes:\n",
       "[1] Standard Errors assume that the covariance matrix of the errors is correctly specified.\n",
       "[2] The condition number is large, 4.1e+06. This might indicate that there are\n",
       "strong multicollinearity or other numerical problems.\n",
       "\"\"\""
      ]
     },
     "execution_count": 16,
     "metadata": {},
     "output_type": "execute_result"
    }
   ],
   "source": [
    "import statsmodels.formula.api as smf\n",
    "\n",
    "model = smf.ols(data=df, formula='betweeness ~ owners')\n",
    "result = model.fit()\n",
    "result.summary()"
   ]
  },
  {
   "cell_type": "code",
   "execution_count": 17,
   "id": "a2e0a46b",
   "metadata": {},
   "outputs": [
    {
     "data": {
      "text/plain": [
       "<AxesSubplot:xlabel='owners', ylabel='betweeness'>"
      ]
     },
     "execution_count": 17,
     "metadata": {},
     "output_type": "execute_result"
    },
    {
     "data": {
      "image/png": "[encoded data removed]",
      "text/plain": [
       "<Figure size 504x504 with 1 Axes>"
      ]
     },
     "metadata": {},
     "output_type": "display_data"
    }
   ],
   "source": [
    "#sns.regplot(x=df['owners'], y=df['betweeness'])\n",
    "\n",
    "f, ax = plt.subplots(figsize=(7, 7))\n",
    "ax.set(xscale=\"log\", yscale=\"log\")\n",
    "sns.regplot(x = df['owners'], y = df['betweeness'], ax=ax)"
   ]
  },
  {
   "cell_type": "code",
   "execution_count": 18,
   "id": "e07b0618",
   "metadata": {
    "scrolled": true
   },
   "outputs": [
    {
     "data": {
      "image/png": "[encoded data removed]",
      "text/plain": [
       "<Figure size 864x288 with 2 Axes>"
      ]
     },
     "metadata": {},
     "output_type": "display_data"
    }
   ],
   "source": [
    "from matplotlib import rcParams\n",
    "\n",
    "def linear_resplot(result):\n",
    "    width, height = rcParams['figure.figsize']\n",
    "    fig, axs = plt.subplots(1, 2, figsize=(2 * width, height))\n",
    "    ax = sns.scatterplot(x=result.fittedvalues, y=result.resid, ax=axs[0])\n",
    "    ax.set(xscale=\"log\", yscale=\"log\")\n",
    "    ax.axhline(0)\n",
    "    sns.histplot(result.resid, ax=axs[1])\n",
    "    plt.show()\n",
    "\n",
    "linear_resplot(result)"
   ]
  },
  {
   "cell_type": "markdown",
   "id": "5b8001be",
   "metadata": {},
   "source": [
    "## Visualização da Rede"
   ]
  },
  {
   "cell_type": "code",
   "execution_count": 36,
   "id": "f324ceb9",
   "metadata": {
    "scrolled": false
   },
   "outputs": [],
   "source": [
    "# save_gt(g, 'steam.net.gz')\n",
    "\n",
    "# g = load_gt('steam.net.gz')\n",
    "# m = draw_gt.sfdp_layout(g)\n",
    "# move_gt(g, m)\n",
    "# save_gt(g, 'steam.net.gz')\n",
    "\n",
    "# r = netpixi.render('steam.net.gz');"
   ]
  },
  {
   "cell_type": "code",
   "execution_count": 35,
   "id": "f39cd9a9",
   "metadata": {},
   "outputs": [],
   "source": [
    "# r.graph(color=0x000000)\n",
    "\n",
    "# r.vertex_default(color=0xffffff, size=5)\n",
    "\n",
    "# r.edge_default(color=0xffffff, width=1, curve1=0, curve2=0)\n",
    "\n",
    "# #r.vertex_set_key('name')\n",
    "# r"
   ]
  },
  {
   "cell_type": "markdown",
   "id": "e4846d8d",
   "metadata": {},
   "source": [
    "## Recortes"
   ]
  },
  {
   "cell_type": "markdown",
   "id": "e0b3b434",
   "metadata": {},
   "source": [
    "### Recorte #1"
   ]
  },
  {
   "cell_type": "code",
   "execution_count": 21,
   "id": "016fac6b",
   "metadata": {
    "scrolled": true
   },
   "outputs": [
    {
     "name": "stdout",
     "output_type": "stream",
     "text": [
      "2319\n"
     ]
    },
    {
     "data": {
      "text/html": [
       "<table class=\"simpletable\">\n",
       "<caption>OLS Regression Results</caption>\n",
       "<tr>\n",
       "  <th>Dep. Variable:</th>       <td>betweeness</td>    <th>  R-squared:         </th>  <td>   0.000</td> \n",
       "</tr>\n",
       "<tr>\n",
       "  <th>Model:</th>                   <td>OLS</td>       <th>  Adj. R-squared:    </th>  <td>  -0.000</td> \n",
       "</tr>\n",
       "<tr>\n",
       "  <th>Method:</th>             <td>Least Squares</td>  <th>  F-statistic:       </th>  <td> 0.09680</td> \n",
       "</tr>\n",
       "<tr>\n",
       "  <th>Date:</th>             <td>Mon, 29 Nov 2021</td> <th>  Prob (F-statistic):</th>   <td> 0.756</td>  \n",
       "</tr>\n",
       "<tr>\n",
       "  <th>Time:</th>                 <td>19:01:31</td>     <th>  Log-Likelihood:    </th>  <td>  15605.</td> \n",
       "</tr>\n",
       "<tr>\n",
       "  <th>No. Observations:</th>      <td>  2319</td>      <th>  AIC:               </th> <td>-3.121e+04</td>\n",
       "</tr>\n",
       "<tr>\n",
       "  <th>Df Residuals:</th>          <td>  2317</td>      <th>  BIC:               </th> <td>-3.119e+04</td>\n",
       "</tr>\n",
       "<tr>\n",
       "  <th>Df Model:</th>              <td>     1</td>      <th>                     </th>      <td> </td>    \n",
       "</tr>\n",
       "<tr>\n",
       "  <th>Covariance Type:</th>      <td>nonrobust</td>    <th>                     </th>      <td> </td>    \n",
       "</tr>\n",
       "</table>\n",
       "<table class=\"simpletable\">\n",
       "<tr>\n",
       "      <td></td>         <th>coef</th>     <th>std err</th>      <th>t</th>      <th>P>|t|</th>  <th>[0.025</th>    <th>0.975]</th>  \n",
       "</tr>\n",
       "<tr>\n",
       "  <th>Intercept</th> <td>    0.0002</td> <td> 6.12e-06</td> <td>   34.288</td> <td> 0.000</td> <td>    0.000</td> <td>    0.000</td>\n",
       "</tr>\n",
       "<tr>\n",
       "  <th>owners</th>    <td> 4.825e-13</td> <td> 1.55e-12</td> <td>    0.311</td> <td> 0.756</td> <td>-2.56e-12</td> <td> 3.52e-12</td>\n",
       "</tr>\n",
       "</table>\n",
       "<table class=\"simpletable\">\n",
       "<tr>\n",
       "  <th>Omnibus:</th>       <td>1556.457</td> <th>  Durbin-Watson:     </th> <td>   1.694</td> \n",
       "</tr>\n",
       "<tr>\n",
       "  <th>Prob(Omnibus):</th>  <td> 0.000</td>  <th>  Jarque-Bera (JB):  </th> <td>29248.516</td>\n",
       "</tr>\n",
       "<tr>\n",
       "  <th>Skew:</th>           <td> 2.905</td>  <th>  Prob(JB):          </th> <td>    0.00</td> \n",
       "</tr>\n",
       "<tr>\n",
       "  <th>Kurtosis:</th>       <td>19.399</td>  <th>  Cond. No.          </th> <td>4.02e+06</td> \n",
       "</tr>\n",
       "</table><br/><br/>Notes:<br/>[1] Standard Errors assume that the covariance matrix of the errors is correctly specified.<br/>[2] The condition number is large, 4.02e+06. This might indicate that there are<br/>strong multicollinearity or other numerical problems."
      ],
      "text/plain": [
       "<class 'statsmodels.iolib.summary.Summary'>\n",
       "\"\"\"\n",
       "                            OLS Regression Results                            \n",
       "==============================================================================\n",
       "Dep. Variable:             betweeness   R-squared:                       0.000\n",
       "Model:                            OLS   Adj. R-squared:                 -0.000\n",
       "Method:                 Least Squares   F-statistic:                   0.09680\n",
       "Date:                Mon, 29 Nov 2021   Prob (F-statistic):              0.756\n",
       "Time:                        19:01:31   Log-Likelihood:                 15605.\n",
       "No. Observations:                2319   AIC:                        -3.121e+04\n",
       "Df Residuals:                    2317   BIC:                        -3.119e+04\n",
       "Df Model:                           1                                         \n",
       "Covariance Type:            nonrobust                                         \n",
       "==============================================================================\n",
       "                 coef    std err          t      P>|t|      [0.025      0.975]\n",
       "------------------------------------------------------------------------------\n",
       "Intercept      0.0002   6.12e-06     34.288      0.000       0.000       0.000\n",
       "owners      4.825e-13   1.55e-12      0.311      0.756   -2.56e-12    3.52e-12\n",
       "==============================================================================\n",
       "Omnibus:                     1556.457   Durbin-Watson:                   1.694\n",
       "Prob(Omnibus):                  0.000   Jarque-Bera (JB):            29248.516\n",
       "Skew:                           2.905   Prob(JB):                         0.00\n",
       "Kurtosis:                      19.399   Cond. No.                     4.02e+06\n",
       "==============================================================================\n",
       "\n",
       "Notes:\n",
       "[1] Standard Errors assume that the covariance matrix of the errors is correctly specified.\n",
       "[2] The condition number is large, 4.02e+06. This might indicate that there are\n",
       "strong multicollinearity or other numerical problems.\n",
       "\"\"\""
      ]
     },
     "execution_count": 21,
     "metadata": {},
     "output_type": "execute_result"
    }
   ],
   "source": [
    "recorteHL2 = df[df['release_year'] > 2004]\n",
    "print(len(recorteHL2))\n",
    "\n",
    "modelHL2 = smf.ols(data=recorteHL2, formula='betweeness ~ owners')\n",
    "resultHL2 = modelHL2.fit()\n",
    "resultHL2.summary()"
   ]
  },
  {
   "cell_type": "markdown",
   "id": "66506379",
   "metadata": {},
   "source": [
    "### Recorte #2"
   ]
  },
  {
   "cell_type": "code",
   "execution_count": 22,
   "id": "0dcecc2c",
   "metadata": {},
   "outputs": [
    {
     "name": "stdout",
     "output_type": "stream",
     "text": [
      "2027\n"
     ]
    },
    {
     "data": {
      "text/html": [
       "<table class=\"simpletable\">\n",
       "<caption>OLS Regression Results</caption>\n",
       "<tr>\n",
       "  <th>Dep. Variable:</th>       <td>betweeness</td>    <th>  R-squared:         </th>  <td>   0.000</td> \n",
       "</tr>\n",
       "<tr>\n",
       "  <th>Model:</th>                   <td>OLS</td>       <th>  Adj. R-squared:    </th>  <td>  -0.000</td> \n",
       "</tr>\n",
       "<tr>\n",
       "  <th>Method:</th>             <td>Least Squares</td>  <th>  F-statistic:       </th>  <td>  0.2688</td> \n",
       "</tr>\n",
       "<tr>\n",
       "  <th>Date:</th>             <td>Mon, 29 Nov 2021</td> <th>  Prob (F-statistic):</th>   <td> 0.604</td>  \n",
       "</tr>\n",
       "<tr>\n",
       "  <th>Time:</th>                 <td>19:01:31</td>     <th>  Log-Likelihood:    </th>  <td>  13575.</td> \n",
       "</tr>\n",
       "<tr>\n",
       "  <th>No. Observations:</th>      <td>  2027</td>      <th>  AIC:               </th> <td>-2.715e+04</td>\n",
       "</tr>\n",
       "<tr>\n",
       "  <th>Df Residuals:</th>          <td>  2025</td>      <th>  BIC:               </th> <td>-2.713e+04</td>\n",
       "</tr>\n",
       "<tr>\n",
       "  <th>Df Model:</th>              <td>     1</td>      <th>                     </th>      <td> </td>    \n",
       "</tr>\n",
       "<tr>\n",
       "  <th>Covariance Type:</th>      <td>nonrobust</td>    <th>                     </th>      <td> </td>    \n",
       "</tr>\n",
       "</table>\n",
       "<table class=\"simpletable\">\n",
       "<tr>\n",
       "      <td></td>         <th>coef</th>     <th>std err</th>      <th>t</th>      <th>P>|t|</th>  <th>[0.025</th>    <th>0.975]</th>  \n",
       "</tr>\n",
       "<tr>\n",
       "  <th>Intercept</th> <td>    0.0002</td> <td> 6.75e-06</td> <td>   33.908</td> <td> 0.000</td> <td>    0.000</td> <td>    0.000</td>\n",
       "</tr>\n",
       "<tr>\n",
       "  <th>owners</th>    <td> 8.569e-13</td> <td> 1.65e-12</td> <td>    0.518</td> <td> 0.604</td> <td>-2.38e-12</td> <td>  4.1e-12</td>\n",
       "</tr>\n",
       "</table>\n",
       "<table class=\"simpletable\">\n",
       "<tr>\n",
       "  <th>Omnibus:</th>       <td>1335.312</td> <th>  Durbin-Watson:     </th> <td>   1.765</td> \n",
       "</tr>\n",
       "<tr>\n",
       "  <th>Prob(Omnibus):</th>  <td> 0.000</td>  <th>  Jarque-Bera (JB):  </th> <td>23598.973</td>\n",
       "</tr>\n",
       "<tr>\n",
       "  <th>Skew:</th>           <td> 2.840</td>  <th>  Prob(JB):          </th> <td>    0.00</td> \n",
       "</tr>\n",
       "<tr>\n",
       "  <th>Kurtosis:</th>       <td>18.721</td>  <th>  Cond. No.          </th> <td>4.15e+06</td> \n",
       "</tr>\n",
       "</table><br/><br/>Notes:<br/>[1] Standard Errors assume that the covariance matrix of the errors is correctly specified.<br/>[2] The condition number is large, 4.15e+06. This might indicate that there are<br/>strong multicollinearity or other numerical problems."
      ],
      "text/plain": [
       "<class 'statsmodels.iolib.summary.Summary'>\n",
       "\"\"\"\n",
       "                            OLS Regression Results                            \n",
       "==============================================================================\n",
       "Dep. Variable:             betweeness   R-squared:                       0.000\n",
       "Model:                            OLS   Adj. R-squared:                 -0.000\n",
       "Method:                 Least Squares   F-statistic:                    0.2688\n",
       "Date:                Mon, 29 Nov 2021   Prob (F-statistic):              0.604\n",
       "Time:                        19:01:31   Log-Likelihood:                 13575.\n",
       "No. Observations:                2027   AIC:                        -2.715e+04\n",
       "Df Residuals:                    2025   BIC:                        -2.713e+04\n",
       "Df Model:                           1                                         \n",
       "Covariance Type:            nonrobust                                         \n",
       "==============================================================================\n",
       "                 coef    std err          t      P>|t|      [0.025      0.975]\n",
       "------------------------------------------------------------------------------\n",
       "Intercept      0.0002   6.75e-06     33.908      0.000       0.000       0.000\n",
       "owners      8.569e-13   1.65e-12      0.518      0.604   -2.38e-12     4.1e-12\n",
       "==============================================================================\n",
       "Omnibus:                     1335.312   Durbin-Watson:                   1.765\n",
       "Prob(Omnibus):                  0.000   Jarque-Bera (JB):            23598.973\n",
       "Skew:                           2.840   Prob(JB):                         0.00\n",
       "Kurtosis:                      18.721   Cond. No.                     4.15e+06\n",
       "==============================================================================\n",
       "\n",
       "Notes:\n",
       "[1] Standard Errors assume that the covariance matrix of the errors is correctly specified.\n",
       "[2] The condition number is large, 4.15e+06. This might indicate that there are\n",
       "strong multicollinearity or other numerical problems.\n",
       "\"\"\""
      ]
     },
     "execution_count": 22,
     "metadata": {},
     "output_type": "execute_result"
    }
   ],
   "source": [
    "recorteWaW = df[df['release_year'] > 2008]\n",
    "print(len(recorteWaW))\n",
    "\n",
    "modelarWaW = smf.ols(data=recorteWaW, formula='betweeness ~ owners')\n",
    "resultarWaW = modelarWaW.fit()\n",
    "resultarWaW.summary()"
   ]
  },
  {
   "cell_type": "markdown",
   "id": "ad105a99",
   "metadata": {},
   "source": [
    "### Recorte #3"
   ]
  },
  {
   "cell_type": "code",
   "execution_count": 23,
   "id": "30a48284",
   "metadata": {},
   "outputs": [
    {
     "data": {
      "text/html": [
       "<table class=\"simpletable\">\n",
       "<caption>OLS Regression Results</caption>\n",
       "<tr>\n",
       "  <th>Dep. Variable:</th>       <td>betweeness</td>    <th>  R-squared:         </th>  <td>   0.000</td> \n",
       "</tr>\n",
       "<tr>\n",
       "  <th>Model:</th>                   <td>OLS</td>       <th>  Adj. R-squared:    </th>  <td>  -0.001</td> \n",
       "</tr>\n",
       "<tr>\n",
       "  <th>Method:</th>             <td>Least Squares</td>  <th>  F-statistic:       </th>  <td> 0.03678</td> \n",
       "</tr>\n",
       "<tr>\n",
       "  <th>Date:</th>             <td>Mon, 29 Nov 2021</td> <th>  Prob (F-statistic):</th>   <td> 0.848</td>  \n",
       "</tr>\n",
       "<tr>\n",
       "  <th>Time:</th>                 <td>19:01:31</td>     <th>  Log-Likelihood:    </th>  <td>  9904.6</td> \n",
       "</tr>\n",
       "<tr>\n",
       "  <th>No. Observations:</th>      <td>  1484</td>      <th>  AIC:               </th> <td>-1.981e+04</td>\n",
       "</tr>\n",
       "<tr>\n",
       "  <th>Df Residuals:</th>          <td>  1482</td>      <th>  BIC:               </th> <td>-1.979e+04</td>\n",
       "</tr>\n",
       "<tr>\n",
       "  <th>Df Model:</th>              <td>     1</td>      <th>                     </th>      <td> </td>    \n",
       "</tr>\n",
       "<tr>\n",
       "  <th>Covariance Type:</th>      <td>nonrobust</td>    <th>                     </th>      <td> </td>    \n",
       "</tr>\n",
       "</table>\n",
       "<table class=\"simpletable\">\n",
       "<tr>\n",
       "      <td></td>         <th>coef</th>     <th>std err</th>      <th>t</th>      <th>P>|t|</th>  <th>[0.025</th>    <th>0.975]</th>  \n",
       "</tr>\n",
       "<tr>\n",
       "  <th>Intercept</th> <td>    0.0003</td> <td> 8.06e-06</td> <td>   33.654</td> <td> 0.000</td> <td>    0.000</td> <td>    0.000</td>\n",
       "</tr>\n",
       "<tr>\n",
       "  <th>owners</th>    <td> 3.279e-13</td> <td> 1.71e-12</td> <td>    0.192</td> <td> 0.848</td> <td>-3.03e-12</td> <td> 3.68e-12</td>\n",
       "</tr>\n",
       "</table>\n",
       "<table class=\"simpletable\">\n",
       "<tr>\n",
       "  <th>Omnibus:</th>       <td>683.190</td> <th>  Durbin-Watson:     </th> <td>   1.865</td>\n",
       "</tr>\n",
       "<tr>\n",
       "  <th>Prob(Omnibus):</th> <td> 0.000</td>  <th>  Jarque-Bera (JB):  </th> <td>3873.004</td>\n",
       "</tr>\n",
       "<tr>\n",
       "  <th>Skew:</th>          <td> 2.112</td>  <th>  Prob(JB):          </th> <td>    0.00</td>\n",
       "</tr>\n",
       "<tr>\n",
       "  <th>Kurtosis:</th>      <td> 9.693</td>  <th>  Cond. No.          </th> <td>4.79e+06</td>\n",
       "</tr>\n",
       "</table><br/><br/>Notes:<br/>[1] Standard Errors assume that the covariance matrix of the errors is correctly specified.<br/>[2] The condition number is large, 4.79e+06. This might indicate that there are<br/>strong multicollinearity or other numerical problems."
      ],
      "text/plain": [
       "<class 'statsmodels.iolib.summary.Summary'>\n",
       "\"\"\"\n",
       "                            OLS Regression Results                            \n",
       "==============================================================================\n",
       "Dep. Variable:             betweeness   R-squared:                       0.000\n",
       "Model:                            OLS   Adj. R-squared:                 -0.001\n",
       "Method:                 Least Squares   F-statistic:                   0.03678\n",
       "Date:                Mon, 29 Nov 2021   Prob (F-statistic):              0.848\n",
       "Time:                        19:01:31   Log-Likelihood:                 9904.6\n",
       "No. Observations:                1484   AIC:                        -1.981e+04\n",
       "Df Residuals:                    1482   BIC:                        -1.979e+04\n",
       "Df Model:                           1                                         \n",
       "Covariance Type:            nonrobust                                         \n",
       "==============================================================================\n",
       "                 coef    std err          t      P>|t|      [0.025      0.975]\n",
       "------------------------------------------------------------------------------\n",
       "Intercept      0.0003   8.06e-06     33.654      0.000       0.000       0.000\n",
       "owners      3.279e-13   1.71e-12      0.192      0.848   -3.03e-12    3.68e-12\n",
       "==============================================================================\n",
       "Omnibus:                      683.190   Durbin-Watson:                   1.865\n",
       "Prob(Omnibus):                  0.000   Jarque-Bera (JB):             3873.004\n",
       "Skew:                           2.112   Prob(JB):                         0.00\n",
       "Kurtosis:                       9.693   Cond. No.                     4.79e+06\n",
       "==============================================================================\n",
       "\n",
       "Notes:\n",
       "[1] Standard Errors assume that the covariance matrix of the errors is correctly specified.\n",
       "[2] The condition number is large, 4.79e+06. This might indicate that there are\n",
       "strong multicollinearity or other numerical problems.\n",
       "\"\"\""
      ]
     },
     "execution_count": 23,
     "metadata": {},
     "output_type": "execute_result"
    }
   ],
   "source": [
    "recorteSMB = df[df['release_year'] > 2010]\n",
    "#print(len(recorteWaW))\n",
    "\n",
    "modelSMB = smf.ols(data=recorteSMB, formula='betweeness ~ owners')\n",
    "resultSMB = modelSMB.fit()\n",
    "resultSMB.summary()"
   ]
  },
  {
   "cell_type": "code",
   "execution_count": 24,
   "id": "bc4a08da",
   "metadata": {},
   "outputs": [
    {
     "data": {
      "text/html": [
       "<div>\n",
       "<style scoped>\n",
       "    .dataframe tbody tr th:only-of-type {\n",
       "        vertical-align: middle;\n",
       "    }\n",
       "\n",
       "    .dataframe tbody tr th {\n",
       "        vertical-align: top;\n",
       "    }\n",
       "\n",
       "    .dataframe thead th {\n",
       "        text-align: right;\n",
       "    }\n",
       "</style>\n",
       "<table border=\"1\" class=\"dataframe\">\n",
       "  <thead>\n",
       "    <tr style=\"text-align: right;\">\n",
       "      <th></th>\n",
       "      <th>name</th>\n",
       "      <th>owners</th>\n",
       "      <th>categories</th>\n",
       "      <th>release_year</th>\n",
       "      <th>betweeness</th>\n",
       "    </tr>\n",
       "  </thead>\n",
       "  <tbody>\n",
       "    <tr>\n",
       "      <th>0</th>\n",
       "      <td>name</td>\n",
       "      <td>15000000.0</td>\n",
       "      <td>Multi-player,Online Multi-Player,Local Multi-P...</td>\n",
       "      <td>2000</td>\n",
       "      <td>0.000000</td>\n",
       "    </tr>\n",
       "    <tr>\n",
       "      <th>1</th>\n",
       "      <td>Counter-Strike</td>\n",
       "      <td>7500000.0</td>\n",
       "      <td>Multi-player,Online Multi-Player,Local Multi-P...</td>\n",
       "      <td>1999</td>\n",
       "      <td>0.000000</td>\n",
       "    </tr>\n",
       "    <tr>\n",
       "      <th>2</th>\n",
       "      <td>Team Fortress Classic</td>\n",
       "      <td>7500000.0</td>\n",
       "      <td>Multi-player,Valve Anti-Cheat enabled</td>\n",
       "      <td>2003</td>\n",
       "      <td>0.000000</td>\n",
       "    </tr>\n",
       "    <tr>\n",
       "      <th>3</th>\n",
       "      <td>Day of Defeat</td>\n",
       "      <td>7500000.0</td>\n",
       "      <td>Multi-player,Online Multi-Player,Local Multi-P...</td>\n",
       "      <td>2001</td>\n",
       "      <td>0.000000</td>\n",
       "    </tr>\n",
       "    <tr>\n",
       "      <th>4</th>\n",
       "      <td>Deathmatch Classic</td>\n",
       "      <td>7500000.0</td>\n",
       "      <td>Single-player,Multi-player,Valve Anti-Cheat en...</td>\n",
       "      <td>1999</td>\n",
       "      <td>0.000000</td>\n",
       "    </tr>\n",
       "    <tr>\n",
       "      <th>...</th>\n",
       "      <td>...</td>\n",
       "      <td>...</td>\n",
       "      <td>...</td>\n",
       "      <td>...</td>\n",
       "      <td>...</td>\n",
       "    </tr>\n",
       "    <tr>\n",
       "      <th>2333</th>\n",
       "      <td>枕边少女 MOE Hypnotist - share dreams with you</td>\n",
       "      <td>75000.0</td>\n",
       "      <td>Single-player,Steam Achievements,Full controll...</td>\n",
       "      <td>2014</td>\n",
       "      <td>0.000142</td>\n",
       "    </tr>\n",
       "    <tr>\n",
       "      <th>2334</th>\n",
       "      <td>Magical Monster Land</td>\n",
       "      <td>35000.0</td>\n",
       "      <td>Single-player,Multi-player,Co-op,Shared/Split ...</td>\n",
       "      <td>2015</td>\n",
       "      <td>0.000114</td>\n",
       "    </tr>\n",
       "    <tr>\n",
       "      <th>2335</th>\n",
       "      <td>War Platform</td>\n",
       "      <td>35000.0</td>\n",
       "      <td>Single-player,Steam Achievements,Includes leve...</td>\n",
       "      <td>2014</td>\n",
       "      <td>0.000121</td>\n",
       "    </tr>\n",
       "    <tr>\n",
       "      <th>2336</th>\n",
       "      <td>Clash of Chefs VR</td>\n",
       "      <td>350000.0</td>\n",
       "      <td>Single-player,Steam Achievements,Steam Trading...</td>\n",
       "      <td>2014</td>\n",
       "      <td>0.000278</td>\n",
       "    </tr>\n",
       "    <tr>\n",
       "      <th>2337</th>\n",
       "      <td>Super Grower</td>\n",
       "      <td>150000.0</td>\n",
       "      <td>Single-player,Multi-player</td>\n",
       "      <td>2014</td>\n",
       "      <td>0.000278</td>\n",
       "    </tr>\n",
       "  </tbody>\n",
       "</table>\n",
       "<p>2338 rows × 5 columns</p>\n",
       "</div>"
      ],
      "text/plain": [
       "                                            name      owners  \\\n",
       "0                                           name  15000000.0   \n",
       "1                                 Counter-Strike   7500000.0   \n",
       "2                          Team Fortress Classic   7500000.0   \n",
       "3                                  Day of Defeat   7500000.0   \n",
       "4                             Deathmatch Classic   7500000.0   \n",
       "...                                          ...         ...   \n",
       "2333  枕边少女 MOE Hypnotist - share dreams with you     75000.0   \n",
       "2334                        Magical Monster Land     35000.0   \n",
       "2335                                War Platform     35000.0   \n",
       "2336                           Clash of Chefs VR    350000.0   \n",
       "2337                                Super Grower    150000.0   \n",
       "\n",
       "                                             categories  release_year  \\\n",
       "0     Multi-player,Online Multi-Player,Local Multi-P...          2000   \n",
       "1     Multi-player,Online Multi-Player,Local Multi-P...          1999   \n",
       "2                 Multi-player,Valve Anti-Cheat enabled          2003   \n",
       "3     Multi-player,Online Multi-Player,Local Multi-P...          2001   \n",
       "4     Single-player,Multi-player,Valve Anti-Cheat en...          1999   \n",
       "...                                                 ...           ...   \n",
       "2333  Single-player,Steam Achievements,Full controll...          2014   \n",
       "2334  Single-player,Multi-player,Co-op,Shared/Split ...          2015   \n",
       "2335  Single-player,Steam Achievements,Includes leve...          2014   \n",
       "2336  Single-player,Steam Achievements,Steam Trading...          2014   \n",
       "2337                         Single-player,Multi-player          2014   \n",
       "\n",
       "      betweeness  \n",
       "0       0.000000  \n",
       "1       0.000000  \n",
       "2       0.000000  \n",
       "3       0.000000  \n",
       "4       0.000000  \n",
       "...          ...  \n",
       "2333    0.000142  \n",
       "2334    0.000114  \n",
       "2335    0.000121  \n",
       "2336    0.000278  \n",
       "2337    0.000278  \n",
       "\n",
       "[2338 rows x 5 columns]"
      ]
     },
     "execution_count": 24,
     "metadata": {},
     "output_type": "execute_result"
    }
   ],
   "source": [
    "df['categories'] = [','.join(map(str, l)) for l in df['categories']]\n",
    "df"
   ]
  },
  {
   "cell_type": "markdown",
   "id": "507ab115",
   "metadata": {},
   "source": [
    "### Recorte #4"
   ]
  },
  {
   "cell_type": "code",
   "execution_count": 25,
   "id": "c05e5dad",
   "metadata": {
    "scrolled": false
   },
   "outputs": [
    {
     "name": "stdout",
     "output_type": "stream",
     "text": [
      "793\n"
     ]
    },
    {
     "data": {
      "text/html": [
       "<table class=\"simpletable\">\n",
       "<caption>OLS Regression Results</caption>\n",
       "<tr>\n",
       "  <th>Dep. Variable:</th>       <td>betweeness</td>    <th>  R-squared:         </th>  <td>   0.000</td> \n",
       "</tr>\n",
       "<tr>\n",
       "  <th>Model:</th>                   <td>OLS</td>       <th>  Adj. R-squared:    </th>  <td>  -0.001</td> \n",
       "</tr>\n",
       "<tr>\n",
       "  <th>Method:</th>             <td>Least Squares</td>  <th>  F-statistic:       </th>  <td> 0.07243</td> \n",
       "</tr>\n",
       "<tr>\n",
       "  <th>Date:</th>             <td>Mon, 29 Nov 2021</td> <th>  Prob (F-statistic):</th>   <td> 0.788</td>  \n",
       "</tr>\n",
       "<tr>\n",
       "  <th>Time:</th>                 <td>19:01:31</td>     <th>  Log-Likelihood:    </th>  <td>  5287.1</td> \n",
       "</tr>\n",
       "<tr>\n",
       "  <th>No. Observations:</th>      <td>   793</td>      <th>  AIC:               </th> <td>-1.057e+04</td>\n",
       "</tr>\n",
       "<tr>\n",
       "  <th>Df Residuals:</th>          <td>   791</td>      <th>  BIC:               </th> <td>-1.056e+04</td>\n",
       "</tr>\n",
       "<tr>\n",
       "  <th>Df Model:</th>              <td>     1</td>      <th>                     </th>      <td> </td>    \n",
       "</tr>\n",
       "<tr>\n",
       "  <th>Covariance Type:</th>      <td>nonrobust</td>    <th>                     </th>      <td> </td>    \n",
       "</tr>\n",
       "</table>\n",
       "<table class=\"simpletable\">\n",
       "<tr>\n",
       "      <td></td>         <th>coef</th>     <th>std err</th>      <th>t</th>      <th>P>|t|</th>  <th>[0.025</th>    <th>0.975]</th>  \n",
       "</tr>\n",
       "<tr>\n",
       "  <th>Intercept</th> <td>    0.0002</td> <td> 1.12e-05</td> <td>   19.115</td> <td> 0.000</td> <td>    0.000</td> <td>    0.000</td>\n",
       "</tr>\n",
       "<tr>\n",
       "  <th>owners</th>    <td>  4.54e-13</td> <td> 1.69e-12</td> <td>    0.269</td> <td> 0.788</td> <td>-2.86e-12</td> <td> 3.77e-12</td>\n",
       "</tr>\n",
       "</table>\n",
       "<table class=\"simpletable\">\n",
       "<tr>\n",
       "  <th>Omnibus:</th>       <td>444.541</td> <th>  Durbin-Watson:     </th> <td>   1.540</td>\n",
       "</tr>\n",
       "<tr>\n",
       "  <th>Prob(Omnibus):</th> <td> 0.000</td>  <th>  Jarque-Bera (JB):  </th> <td>3716.131</td>\n",
       "</tr>\n",
       "<tr>\n",
       "  <th>Skew:</th>          <td> 2.438</td>  <th>  Prob(JB):          </th> <td>    0.00</td>\n",
       "</tr>\n",
       "<tr>\n",
       "  <th>Kurtosis:</th>      <td>12.418</td>  <th>  Cond. No.          </th> <td>6.79e+06</td>\n",
       "</tr>\n",
       "</table><br/><br/>Notes:<br/>[1] Standard Errors assume that the covariance matrix of the errors is correctly specified.<br/>[2] The condition number is large, 6.79e+06. This might indicate that there are<br/>strong multicollinearity or other numerical problems."
      ],
      "text/plain": [
       "<class 'statsmodels.iolib.summary.Summary'>\n",
       "\"\"\"\n",
       "                            OLS Regression Results                            \n",
       "==============================================================================\n",
       "Dep. Variable:             betweeness   R-squared:                       0.000\n",
       "Model:                            OLS   Adj. R-squared:                 -0.001\n",
       "Method:                 Least Squares   F-statistic:                   0.07243\n",
       "Date:                Mon, 29 Nov 2021   Prob (F-statistic):              0.788\n",
       "Time:                        19:01:31   Log-Likelihood:                 5287.1\n",
       "No. Observations:                 793   AIC:                        -1.057e+04\n",
       "Df Residuals:                     791   BIC:                        -1.056e+04\n",
       "Df Model:                           1                                         \n",
       "Covariance Type:            nonrobust                                         \n",
       "==============================================================================\n",
       "                 coef    std err          t      P>|t|      [0.025      0.975]\n",
       "------------------------------------------------------------------------------\n",
       "Intercept      0.0002   1.12e-05     19.115      0.000       0.000       0.000\n",
       "owners       4.54e-13   1.69e-12      0.269      0.788   -2.86e-12    3.77e-12\n",
       "==============================================================================\n",
       "Omnibus:                      444.541   Durbin-Watson:                   1.540\n",
       "Prob(Omnibus):                  0.000   Jarque-Bera (JB):             3716.131\n",
       "Skew:                           2.438   Prob(JB):                         0.00\n",
       "Kurtosis:                      12.418   Cond. No.                     6.79e+06\n",
       "==============================================================================\n",
       "\n",
       "Notes:\n",
       "[1] Standard Errors assume that the covariance matrix of the errors is correctly specified.\n",
       "[2] The condition number is large, 6.79e+06. This might indicate that there are\n",
       "strong multicollinearity or other numerical problems.\n",
       "\"\"\""
      ]
     },
     "execution_count": 25,
     "metadata": {},
     "output_type": "execute_result"
    }
   ],
   "source": [
    "recorteMP = df.loc[df['categories'].str.contains('Multi-player')]\n",
    "print(len(recorteMP))\n",
    "\n",
    "modelMP = smf.ols(data=recorteMP, formula='betweeness ~ owners')\n",
    "resultMP = modelMP.fit()\n",
    "resultMP.summary()"
   ]
  },
  {
   "cell_type": "markdown",
   "id": "040e091b",
   "metadata": {},
   "source": [
    "### Relacionando Recortes"
   ]
  },
  {
   "cell_type": "code",
   "execution_count": 26,
   "id": "a36343ce",
   "metadata": {},
   "outputs": [
    {
     "name": "stdout",
     "output_type": "stream",
     "text": [
      "781\n"
     ]
    },
    {
     "data": {
      "text/html": [
       "<table class=\"simpletable\">\n",
       "<caption>OLS Regression Results</caption>\n",
       "<tr>\n",
       "  <th>Dep. Variable:</th>       <td>betweeness</td>    <th>  R-squared:         </th>  <td>   0.001</td> \n",
       "</tr>\n",
       "<tr>\n",
       "  <th>Model:</th>                   <td>OLS</td>       <th>  Adj. R-squared:    </th>  <td>  -0.001</td> \n",
       "</tr>\n",
       "<tr>\n",
       "  <th>Method:</th>             <td>Least Squares</td>  <th>  F-statistic:       </th>  <td>  0.3951</td> \n",
       "</tr>\n",
       "<tr>\n",
       "  <th>Date:</th>             <td>Mon, 29 Nov 2021</td> <th>  Prob (F-statistic):</th>   <td> 0.530</td>  \n",
       "</tr>\n",
       "<tr>\n",
       "  <th>Time:</th>                 <td>19:01:31</td>     <th>  Log-Likelihood:    </th>  <td>  5204.3</td> \n",
       "</tr>\n",
       "<tr>\n",
       "  <th>No. Observations:</th>      <td>   781</td>      <th>  AIC:               </th> <td>-1.040e+04</td>\n",
       "</tr>\n",
       "<tr>\n",
       "  <th>Df Residuals:</th>          <td>   779</td>      <th>  BIC:               </th> <td>-1.040e+04</td>\n",
       "</tr>\n",
       "<tr>\n",
       "  <th>Df Model:</th>              <td>     1</td>      <th>                     </th>      <td> </td>    \n",
       "</tr>\n",
       "<tr>\n",
       "  <th>Covariance Type:</th>      <td>nonrobust</td>    <th>                     </th>      <td> </td>    \n",
       "</tr>\n",
       "</table>\n",
       "<table class=\"simpletable\">\n",
       "<tr>\n",
       "      <td></td>         <th>coef</th>     <th>std err</th>      <th>t</th>      <th>P>|t|</th>  <th>[0.025</th>    <th>0.975]</th>  \n",
       "</tr>\n",
       "<tr>\n",
       "  <th>Intercept</th> <td>    0.0002</td> <td> 1.13e-05</td> <td>   19.135</td> <td> 0.000</td> <td>    0.000</td> <td>    0.000</td>\n",
       "</tr>\n",
       "<tr>\n",
       "  <th>owners</th>    <td>  1.08e-12</td> <td> 1.72e-12</td> <td>    0.629</td> <td> 0.530</td> <td>-2.29e-12</td> <td> 4.45e-12</td>\n",
       "</tr>\n",
       "</table>\n",
       "<table class=\"simpletable\">\n",
       "<tr>\n",
       "  <th>Omnibus:</th>       <td>436.164</td> <th>  Durbin-Watson:     </th> <td>   1.555</td>\n",
       "</tr>\n",
       "<tr>\n",
       "  <th>Prob(Omnibus):</th> <td> 0.000</td>  <th>  Jarque-Bera (JB):  </th> <td>3609.794</td>\n",
       "</tr>\n",
       "<tr>\n",
       "  <th>Skew:</th>          <td> 2.427</td>  <th>  Prob(JB):          </th> <td>    0.00</td>\n",
       "</tr>\n",
       "<tr>\n",
       "  <th>Kurtosis:</th>      <td>12.347</td>  <th>  Cond. No.          </th> <td>6.70e+06</td>\n",
       "</tr>\n",
       "</table><br/><br/>Notes:<br/>[1] Standard Errors assume that the covariance matrix of the errors is correctly specified.<br/>[2] The condition number is large, 6.7e+06. This might indicate that there are<br/>strong multicollinearity or other numerical problems."
      ],
      "text/plain": [
       "<class 'statsmodels.iolib.summary.Summary'>\n",
       "\"\"\"\n",
       "                            OLS Regression Results                            \n",
       "==============================================================================\n",
       "Dep. Variable:             betweeness   R-squared:                       0.001\n",
       "Model:                            OLS   Adj. R-squared:                 -0.001\n",
       "Method:                 Least Squares   F-statistic:                    0.3951\n",
       "Date:                Mon, 29 Nov 2021   Prob (F-statistic):              0.530\n",
       "Time:                        19:01:31   Log-Likelihood:                 5204.3\n",
       "No. Observations:                 781   AIC:                        -1.040e+04\n",
       "Df Residuals:                     779   BIC:                        -1.040e+04\n",
       "Df Model:                           1                                         \n",
       "Covariance Type:            nonrobust                                         \n",
       "==============================================================================\n",
       "                 coef    std err          t      P>|t|      [0.025      0.975]\n",
       "------------------------------------------------------------------------------\n",
       "Intercept      0.0002   1.13e-05     19.135      0.000       0.000       0.000\n",
       "owners       1.08e-12   1.72e-12      0.629      0.530   -2.29e-12    4.45e-12\n",
       "==============================================================================\n",
       "Omnibus:                      436.164   Durbin-Watson:                   1.555\n",
       "Prob(Omnibus):                  0.000   Jarque-Bera (JB):             3609.794\n",
       "Skew:                           2.427   Prob(JB):                         0.00\n",
       "Kurtosis:                      12.347   Cond. No.                     6.70e+06\n",
       "==============================================================================\n",
       "\n",
       "Notes:\n",
       "[1] Standard Errors assume that the covariance matrix of the errors is correctly specified.\n",
       "[2] The condition number is large, 6.7e+06. This might indicate that there are\n",
       "strong multicollinearity or other numerical problems.\n",
       "\"\"\""
      ]
     },
     "execution_count": 26,
     "metadata": {},
     "output_type": "execute_result"
    }
   ],
   "source": [
    "recorte41 = recorteMP[recorteMP['release_year'] > 2004]\n",
    "print(len(recorte41))\n",
    "\n",
    "model41 = smf.ols(data=recorte41, formula='betweeness ~ owners')\n",
    "result41 = model41.fit()\n",
    "result41.summary()"
   ]
  },
  {
   "cell_type": "code",
   "execution_count": 27,
   "id": "f8a4fd78",
   "metadata": {},
   "outputs": [
    {
     "name": "stdout",
     "output_type": "stream",
     "text": [
      "663\n"
     ]
    },
    {
     "data": {
      "text/html": [
       "<table class=\"simpletable\">\n",
       "<caption>OLS Regression Results</caption>\n",
       "<tr>\n",
       "  <th>Dep. Variable:</th>       <td>betweeness</td>    <th>  R-squared:         </th> <td>   0.001</td>\n",
       "</tr>\n",
       "<tr>\n",
       "  <th>Model:</th>                   <td>OLS</td>       <th>  Adj. R-squared:    </th> <td>  -0.001</td>\n",
       "</tr>\n",
       "<tr>\n",
       "  <th>Method:</th>             <td>Least Squares</td>  <th>  F-statistic:       </th> <td>  0.3387</td>\n",
       "</tr>\n",
       "<tr>\n",
       "  <th>Date:</th>             <td>Mon, 29 Nov 2021</td> <th>  Prob (F-statistic):</th>  <td> 0.561</td> \n",
       "</tr>\n",
       "<tr>\n",
       "  <th>Time:</th>                 <td>19:01:31</td>     <th>  Log-Likelihood:    </th> <td>  4391.8</td>\n",
       "</tr>\n",
       "<tr>\n",
       "  <th>No. Observations:</th>      <td>   663</td>      <th>  AIC:               </th> <td>  -8780.</td>\n",
       "</tr>\n",
       "<tr>\n",
       "  <th>Df Residuals:</th>          <td>   661</td>      <th>  BIC:               </th> <td>  -8771.</td>\n",
       "</tr>\n",
       "<tr>\n",
       "  <th>Df Model:</th>              <td>     1</td>      <th>                     </th>     <td> </td>   \n",
       "</tr>\n",
       "<tr>\n",
       "  <th>Covariance Type:</th>      <td>nonrobust</td>    <th>                     </th>     <td> </td>   \n",
       "</tr>\n",
       "</table>\n",
       "<table class=\"simpletable\">\n",
       "<tr>\n",
       "      <td></td>         <th>coef</th>     <th>std err</th>      <th>t</th>      <th>P>|t|</th>  <th>[0.025</th>    <th>0.975]</th>  \n",
       "</tr>\n",
       "<tr>\n",
       "  <th>Intercept</th> <td>    0.0002</td> <td> 1.27e-05</td> <td>   18.829</td> <td> 0.000</td> <td>    0.000</td> <td>    0.000</td>\n",
       "</tr>\n",
       "<tr>\n",
       "  <th>owners</th>    <td> 1.066e-12</td> <td> 1.83e-12</td> <td>    0.582</td> <td> 0.561</td> <td>-2.53e-12</td> <td> 4.66e-12</td>\n",
       "</tr>\n",
       "</table>\n",
       "<table class=\"simpletable\">\n",
       "<tr>\n",
       "  <th>Omnibus:</th>       <td>358.039</td> <th>  Durbin-Watson:     </th> <td>   1.617</td>\n",
       "</tr>\n",
       "<tr>\n",
       "  <th>Prob(Omnibus):</th> <td> 0.000</td>  <th>  Jarque-Bera (JB):  </th> <td>2665.965</td>\n",
       "</tr>\n",
       "<tr>\n",
       "  <th>Skew:</th>          <td> 2.337</td>  <th>  Prob(JB):          </th> <td>    0.00</td>\n",
       "</tr>\n",
       "<tr>\n",
       "  <th>Kurtosis:</th>      <td>11.640</td>  <th>  Cond. No.          </th> <td>7.08e+06</td>\n",
       "</tr>\n",
       "</table><br/><br/>Notes:<br/>[1] Standard Errors assume that the covariance matrix of the errors is correctly specified.<br/>[2] The condition number is large, 7.08e+06. This might indicate that there are<br/>strong multicollinearity or other numerical problems."
      ],
      "text/plain": [
       "<class 'statsmodels.iolib.summary.Summary'>\n",
       "\"\"\"\n",
       "                            OLS Regression Results                            \n",
       "==============================================================================\n",
       "Dep. Variable:             betweeness   R-squared:                       0.001\n",
       "Model:                            OLS   Adj. R-squared:                 -0.001\n",
       "Method:                 Least Squares   F-statistic:                    0.3387\n",
       "Date:                Mon, 29 Nov 2021   Prob (F-statistic):              0.561\n",
       "Time:                        19:01:31   Log-Likelihood:                 4391.8\n",
       "No. Observations:                 663   AIC:                            -8780.\n",
       "Df Residuals:                     661   BIC:                            -8771.\n",
       "Df Model:                           1                                         \n",
       "Covariance Type:            nonrobust                                         \n",
       "==============================================================================\n",
       "                 coef    std err          t      P>|t|      [0.025      0.975]\n",
       "------------------------------------------------------------------------------\n",
       "Intercept      0.0002   1.27e-05     18.829      0.000       0.000       0.000\n",
       "owners      1.066e-12   1.83e-12      0.582      0.561   -2.53e-12    4.66e-12\n",
       "==============================================================================\n",
       "Omnibus:                      358.039   Durbin-Watson:                   1.617\n",
       "Prob(Omnibus):                  0.000   Jarque-Bera (JB):             2665.965\n",
       "Skew:                           2.337   Prob(JB):                         0.00\n",
       "Kurtosis:                      11.640   Cond. No.                     7.08e+06\n",
       "==============================================================================\n",
       "\n",
       "Notes:\n",
       "[1] Standard Errors assume that the covariance matrix of the errors is correctly specified.\n",
       "[2] The condition number is large, 7.08e+06. This might indicate that there are\n",
       "strong multicollinearity or other numerical problems.\n",
       "\"\"\""
      ]
     },
     "execution_count": 27,
     "metadata": {},
     "output_type": "execute_result"
    }
   ],
   "source": [
    "recorte42 = recorteMP[recorteMP['release_year'] > 2008]\n",
    "print(len(recorte42))\n",
    "\n",
    "model42 = smf.ols(data=recorte42, formula='betweeness ~ owners')\n",
    "result42 = model42.fit()\n",
    "result42.summary()"
   ]
  },
  {
   "cell_type": "code",
   "execution_count": 28,
   "id": "dcd2f666",
   "metadata": {},
   "outputs": [
    {
     "name": "stdout",
     "output_type": "stream",
     "text": [
      "490\n"
     ]
    },
    {
     "data": {
      "text/html": [
       "<table class=\"simpletable\">\n",
       "<caption>OLS Regression Results</caption>\n",
       "<tr>\n",
       "  <th>Dep. Variable:</th>       <td>betweeness</td>    <th>  R-squared:         </th> <td>   0.000</td>\n",
       "</tr>\n",
       "<tr>\n",
       "  <th>Model:</th>                   <td>OLS</td>       <th>  Adj. R-squared:    </th> <td>  -0.002</td>\n",
       "</tr>\n",
       "<tr>\n",
       "  <th>Method:</th>             <td>Least Squares</td>  <th>  F-statistic:       </th> <td>  0.1208</td>\n",
       "</tr>\n",
       "<tr>\n",
       "  <th>Date:</th>             <td>Mon, 29 Nov 2021</td> <th>  Prob (F-statistic):</th>  <td> 0.728</td> \n",
       "</tr>\n",
       "<tr>\n",
       "  <th>Time:</th>                 <td>19:01:31</td>     <th>  Log-Likelihood:    </th> <td>  3216.4</td>\n",
       "</tr>\n",
       "<tr>\n",
       "  <th>No. Observations:</th>      <td>   490</td>      <th>  AIC:               </th> <td>  -6429.</td>\n",
       "</tr>\n",
       "<tr>\n",
       "  <th>Df Residuals:</th>          <td>   488</td>      <th>  BIC:               </th> <td>  -6420.</td>\n",
       "</tr>\n",
       "<tr>\n",
       "  <th>Df Model:</th>              <td>     1</td>      <th>                     </th>     <td> </td>   \n",
       "</tr>\n",
       "<tr>\n",
       "  <th>Covariance Type:</th>      <td>nonrobust</td>    <th>                     </th>     <td> </td>   \n",
       "</tr>\n",
       "</table>\n",
       "<table class=\"simpletable\">\n",
       "<tr>\n",
       "      <td></td>         <th>coef</th>     <th>std err</th>      <th>t</th>      <th>P>|t|</th>  <th>[0.025</th>    <th>0.975]</th>  \n",
       "</tr>\n",
       "<tr>\n",
       "  <th>Intercept</th> <td>    0.0003</td> <td> 1.57e-05</td> <td>   18.174</td> <td> 0.000</td> <td>    0.000</td> <td>    0.000</td>\n",
       "</tr>\n",
       "<tr>\n",
       "  <th>owners</th>    <td> 6.826e-13</td> <td> 1.96e-12</td> <td>    0.348</td> <td> 0.728</td> <td>-3.18e-12</td> <td> 4.54e-12</td>\n",
       "</tr>\n",
       "</table>\n",
       "<table class=\"simpletable\">\n",
       "<tr>\n",
       "  <th>Omnibus:</th>       <td>253.463</td> <th>  Durbin-Watson:     </th> <td>   1.776</td>\n",
       "</tr>\n",
       "<tr>\n",
       "  <th>Prob(Omnibus):</th> <td> 0.000</td>  <th>  Jarque-Bera (JB):  </th> <td>1648.204</td>\n",
       "</tr>\n",
       "<tr>\n",
       "  <th>Skew:</th>          <td> 2.204</td>  <th>  Prob(JB):          </th> <td>    0.00</td>\n",
       "</tr>\n",
       "<tr>\n",
       "  <th>Kurtosis:</th>      <td>10.829</td>  <th>  Cond. No.          </th> <td>8.16e+06</td>\n",
       "</tr>\n",
       "</table><br/><br/>Notes:<br/>[1] Standard Errors assume that the covariance matrix of the errors is correctly specified.<br/>[2] The condition number is large, 8.16e+06. This might indicate that there are<br/>strong multicollinearity or other numerical problems."
      ],
      "text/plain": [
       "<class 'statsmodels.iolib.summary.Summary'>\n",
       "\"\"\"\n",
       "                            OLS Regression Results                            \n",
       "==============================================================================\n",
       "Dep. Variable:             betweeness   R-squared:                       0.000\n",
       "Model:                            OLS   Adj. R-squared:                 -0.002\n",
       "Method:                 Least Squares   F-statistic:                    0.1208\n",
       "Date:                Mon, 29 Nov 2021   Prob (F-statistic):              0.728\n",
       "Time:                        19:01:31   Log-Likelihood:                 3216.4\n",
       "No. Observations:                 490   AIC:                            -6429.\n",
       "Df Residuals:                     488   BIC:                            -6420.\n",
       "Df Model:                           1                                         \n",
       "Covariance Type:            nonrobust                                         \n",
       "==============================================================================\n",
       "                 coef    std err          t      P>|t|      [0.025      0.975]\n",
       "------------------------------------------------------------------------------\n",
       "Intercept      0.0003   1.57e-05     18.174      0.000       0.000       0.000\n",
       "owners      6.826e-13   1.96e-12      0.348      0.728   -3.18e-12    4.54e-12\n",
       "==============================================================================\n",
       "Omnibus:                      253.463   Durbin-Watson:                   1.776\n",
       "Prob(Omnibus):                  0.000   Jarque-Bera (JB):             1648.204\n",
       "Skew:                           2.204   Prob(JB):                         0.00\n",
       "Kurtosis:                      10.829   Cond. No.                     8.16e+06\n",
       "==============================================================================\n",
       "\n",
       "Notes:\n",
       "[1] Standard Errors assume that the covariance matrix of the errors is correctly specified.\n",
       "[2] The condition number is large, 8.16e+06. This might indicate that there are\n",
       "strong multicollinearity or other numerical problems.\n",
       "\"\"\""
      ]
     },
     "execution_count": 28,
     "metadata": {},
     "output_type": "execute_result"
    }
   ],
   "source": [
    "recorte43 = recorteMP[recorteMP['release_year'] > 2010]\n",
    "print(len(recorte43))\n",
    "\n",
    "model43 = smf.ols(data=recorte43, formula='betweeness ~ owners')\n",
    "result43 = model43.fit()\n",
    "result43.summary()"
   ]
  },
  {
   "cell_type": "markdown",
   "id": "a2192beb",
   "metadata": {},
   "source": [
    "### Checagem de estatísticas"
   ]
  },
  {
   "cell_type": "code",
   "execution_count": 1,
   "id": "33cbe690",
   "metadata": {},
   "outputs": [
    {
     "ename": "NameError",
     "evalue": "name 'df' is not defined",
     "output_type": "error",
     "traceback": [
      "\u001b[0;31m---------------------------------------------------------------------------\u001b[0m",
      "\u001b[0;31mNameError\u001b[0m                                 Traceback (most recent call last)",
      "\u001b[0;32m/tmp/ipykernel_12/3882430627.py\u001b[0m in \u001b[0;36m<module>\u001b[0;34m\u001b[0m\n\u001b[0;32m----> 1\u001b[0;31m \u001b[0msoma_owners\u001b[0m \u001b[0;34m=\u001b[0m \u001b[0mdf\u001b[0m\u001b[0;34m[\u001b[0m\u001b[0;34m'owners'\u001b[0m\u001b[0;34m]\u001b[0m\u001b[0;34m.\u001b[0m\u001b[0msum\u001b[0m\u001b[0;34m(\u001b[0m\u001b[0;34m)\u001b[0m\u001b[0;34m\u001b[0m\u001b[0;34m\u001b[0m\u001b[0m\n\u001b[0m\u001b[1;32m      2\u001b[0m \u001b[0mprint\u001b[0m\u001b[0;34m(\u001b[0m\u001b[0msoma_owners\u001b[0m\u001b[0;34m/\u001b[0m\u001b[0mlen\u001b[0m\u001b[0;34m(\u001b[0m\u001b[0mdf\u001b[0m\u001b[0;34m)\u001b[0m\u001b[0;34m)\u001b[0m\u001b[0;34m\u001b[0m\u001b[0;34m\u001b[0m\u001b[0m\n",
      "\u001b[0;31mNameError\u001b[0m: name 'df' is not defined"
     ]
    }
   ],
   "source": [
    "soma_owners = df['owners'].sum()\n",
    "print(soma_owners/len(df))"
   ]
  },
  {
   "cell_type": "code",
   "execution_count": 30,
   "id": "32c00705",
   "metadata": {
    "scrolled": false
   },
   "outputs": [
    {
     "name": "stdout",
     "output_type": "stream",
     "text": [
      "5475600\n",
      "0.6301694791438381\n"
     ]
    },
    {
     "data": {
      "text/plain": [
       "<AxesSubplot:ylabel='Density'>"
      ]
     },
     "execution_count": 30,
     "metadata": {},
     "output_type": "execute_result"
    },
    {
     "data": {
      "image/png": "[encoded data removed]",
      "text/plain": [
       "<Figure size 432x288 with 1 Axes>"
      ]
     },
     "metadata": {},
     "output_type": "display_data"
    }
   ],
   "source": [
    "total = 0\n",
    "print(len(numeros_generos))\n",
    "\n",
    "for num in numeros_generos:\n",
    "     total += num\n",
    "print(total / len(numeros_generos))\n",
    "\n",
    "# print(n_arest)\n",
    "# print(n_vert)\n",
    "# print(n_arest/n_vert)\n",
    "\n",
    "sns.distplot(numeros_generos)"
   ]
  },
  {
   "cell_type": "markdown",
   "id": "3053e2ca",
   "metadata": {},
   "source": [
    "EOF"
   ]
  }
 ],
 "metadata": {
  "kernelspec": {
   "display_name": "Python 3 (ipykernel)",
   "language": "python",
   "name": "python3"
  },
  "language_info": {
   "codemirror_mode": {
    "name": "ipython",
    "version": 3
   },
   "file_extension": ".py",
   "mimetype": "text/x-python",
   "name": "python",
   "nbconvert_exporter": "python",
   "pygments_lexer": "ipython3",
   "version": "3.7.11"
  }
 },
 "nbformat": 4,
 "nbformat_minor": 5
}
